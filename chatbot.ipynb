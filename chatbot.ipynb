{
 "cells": [
  {
   "cell_type": "code",
   "execution_count": 19,
   "id": "750fdac5-9f39-4b8e-a52e-4eb0a0b2e19b",
   "metadata": {},
   "outputs": [
    {
     "name": "stdout",
     "output_type": "stream",
     "text": [
      "Done\n"
     ]
    }
   ],
   "source": [
    "import openai\n",
    "from openai import OpenAI\n",
    "import os"
   ]
  },
  {
   "cell_type": "code",
   "execution_count": 15,
   "id": "91715cc8-de44-40e0-b718-bc3ebed0f783",
   "metadata": {},
   "outputs": [],
   "source": [
    "client = OpenAI(api_key = \"Your Api key\")"
   ]
  },
  {
   "cell_type": "code",
   "execution_count": 31,
   "id": "545fbd4e-49cf-4d75-a60e-54dc6f978733",
   "metadata": {},
   "outputs": [
    {
     "name": "stdout",
     "output_type": "stream",
     "text": [
      "Listening...\n",
      "Recognizing...\n",
      "You said: hi who is the Prime Minister of India and what about today what are you doing currently have you had your dinner what is your breakfast\n"
     ]
    }
   ],
   "source": [
    "import speech_recognition as sr\n",
    "\n",
    "# Initialize recognizer\n",
    "recognizer = sr.Recognizer()\n",
    "\n",
    "# Capture audio from microphone\n",
    "with sr.Microphone() as source:\n",
    "    print(\"Listening...\")\n",
    "    audio_data = recognizer.listen(source)\n",
    "    print(\"Recognizing...\")\n",
    "    \n",
    "    try:\n",
    "        # Convert audio to text\n",
    "        user_input = recognizer.recognize_google(audio_data)\n",
    "        print(f\"You said: {user_input}\")\n",
    "\n",
    "    except sr.UnknownValueError:\n",
    "        print(\"Sorry, I could not understand the audio.\")\n",
    "    except sr.RequestError as e:\n",
    "        print(f\"Sorry, there was an error with the request: {e}\")\n"
   ]
  },
  {
   "cell_type": "code",
   "execution_count": 27,
   "id": "cc512c01-54fe-48c0-9233-b0ccdc526d74",
   "metadata": {},
   "outputs": [
    {
     "name": "stdout",
     "output_type": "stream",
     "text": [
      "ChatCompletionMessage(content=\"As of my last knowledge update, the Prime Minister of India is Narendra Modi. However, please note that this information may have changed, so it's always best to verify with the latest sources.\", refusal=None, role='assistant', function_call=None, tool_calls=None)\n"
     ]
    }
   ],
   "source": [
    "completion = client.chat.completions.create(\n",
    "  model=\"gpt-3.5-turbo-1106\",\n",
    "  messages=[\n",
    "    {\"role\": \"system\", \"content\": \"You are a helpful assistant\"},\n",
    "    {\"role\": \"user\", \"content\": \"who is the prime minister of India\"}\n",
    "  ]\n",
    ")\n",
    "\n",
    "message = completion.choices[0].message\n",
    "print(message)"
   ]
  },
  {
   "cell_type": "code",
   "execution_count": null,
   "id": "a0ac13a6-0b45-4e44-8e20-4dda686dc985",
   "metadata": {},
   "outputs": [],
   "source": []
  }
 ],
 "metadata": {
  "kernelspec": {
   "display_name": "Python 3 (ipykernel)",
   "language": "python",
   "name": "python3"
  },
  "language_info": {
   "codemirror_mode": {
    "name": "ipython",
    "version": 3
   },
   "file_extension": ".py",
   "mimetype": "text/x-python",
   "name": "python",
   "nbconvert_exporter": "python",
   "pygments_lexer": "ipython3",
   "version": "3.12.4"
  }
 },
 "nbformat": 4,
 "nbformat_minor": 5
}
